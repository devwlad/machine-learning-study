{
 "cells": [
  {
   "cell_type": "markdown",
   "metadata": {},
   "source": [
    "# 1. Machine Learning Definition"
   ]
  },
  {
   "cell_type": "markdown",
   "metadata": {},
   "source": [
    "As a subfield of Artificial Intelligence, Machine Learning has its core in creating an algorithm, which a computer then uses to find a model that fits the data given as best as possible. And, using this algorithm, makes very accurate predictions.\n",
    "\n",
    "The main difference from ML to Traditional Methods is that, for ML, we do not give the machine instructions on how to find the model that fits the data. Instead, we provide the machine algorithms that guides it on how to learn the model on its own.\n",
    "\n",
    "In this fashion, the best way to describe ML in few words is: A trial-and-error process. However, instead of only focusing in retrials with random results, the special thing about this process is that each consecutive trial is at least as good as the previous one.\n",
    "\n",
    "To be more precise, there are four ingredients to make this process work as intended:"
   ]
  },
  {
   "cell_type": "markdown",
   "metadata": {},
   "source": [
    "1. Data: The collection of information to be used\n",
    "2. Model: How the data will be used to pursue an objective\n",
    "3. Objective Function: The parameter to judge how well the model is behaving\n",
    "4. Optimization Algorithm: The mechanics that will be used to improve the mode, min-maxing the results of the Objective Function"
   ]
  },
  {
   "cell_type": "markdown",
   "metadata": {},
   "source": [
    "A clear examplme would be the following scenario:"
   ]
  },
  {
   "cell_type": "markdown",
   "metadata": {},
   "source": [
    "\"Bob is building a robot that should learn how to shoot arrows at a target.\n",
    "The robot is provided a bow, but not the knowledge of how to used it.\n",
    "The robot is also provided with a quiver, full of different types of arrows.\n",
    "In front of the robot, there's a target, where the arrows must be shot, with the bow, by the robot.\n",
    "\n",
    "In this scenario, knowing how to use the bow to shoot the arrows would be our Model.\n",
    "The quiver with the different types of arrows would be our Data.\n",
    "Our target would be the Objective function.\n",
    "Finaly, our Optimization Algorithm would be the mechanics used by robot to improve the model's performance.\""
   ]
  },
  {
   "cell_type": "markdown",
   "metadata": {},
   "source": [
    "Once we have our four ingredients in place, we can begin the training phase for ML."
   ]
  },
  {
   "cell_type": "markdown",
   "metadata": {},
   "source": [
    "## Training"
   ]
  },
  {
   "cell_type": "markdown",
   "metadata": {},
   "source": [
    "The training phase is where our system will actually learn how to do the task needed and how to optimize it. To do that, we will make use of the four ingredients cited before:"
   ]
  },
  {
   "cell_type": "markdown",
   "metadata": {},
   "source": [
    "1. Data: will be fed to our system so that it can understand its structure and how to work on it\n",
    "2. Objective Function: will be our parameter to how well the system is performing. Usually, it will be updated by the Optimization algorithm, minimizing the cost of the tasks and finding the best results\n",
    "3. Optimization algorythm: will use the objective function to tailor the model, making it so that our system keeps adapting it to minimize the objective function\n",
    "4. Model: will be constantly update by the Optimization algorithm, representing the learned procedure of the task, minimizing our Objective Function."
   ]
  },
  {
   "cell_type": "markdown",
   "metadata": {},
   "source": [
    "Finally, once our system is trained, itś time to test it with different data (we're not using the same data as before) to see how well it performs.\n",
    "\n",
    "At the and of the day, the use of Machine Learning es a mean to perform a task in an incresingly better manner, ideally performing better than humans. So, we can resume it in the following:"
   ]
  },
  {
   "cell_type": "markdown",
   "metadata": {},
   "source": [
    "* Benefit: The \"Robot\" (the Algorithm) can learn to perform the task in a more effective way than a human. In fact, it can actually discover new ways of performing the task that is completely different from what humans do.\n",
    "* Use: Even when talking about the \"Robot\", ML is not about it. The main use of ML is to improve complex computational models, helping us to achieve progressively better results in our tasks."
   ]
  },
  {
   "cell_type": "markdown",
   "metadata": {},
   "source": [
    "# 2. Types of Machine Learning"
   ]
  },
  {
   "cell_type": "markdown",
   "metadata": {},
   "source": [
    "## 2.1 Supervised Learning"
   ]
  },
  {
   "cell_type": "markdown",
   "metadata": {},
   "source": [
    "Supervised Learning refers to a type of Machine Learning where we take care of the system's leaning as a teacher would do.\n",
    "\n",
    "We still are not teaching the system how to solve the task, but we are providing it with information on what is wrong and what is right.\n",
    "\n",
    "To perform the Supervised Learning, we provide the system with labeled data. From this data, we have previous knowledge of the results we will have before the task is performed and are able to associate the task, useing the data, to our target.\n",
    "\n",
    "considering that, we guarantee that the Objective Function can be used to measure the inaccuracy of the task being performed by the system, and that the Optimization Algorithm will be able to improve the way (Model) the system performs the task."
   ]
  },
  {
   "cell_type": "markdown",
   "metadata": {},
   "source": [
    "## 2.2 Unsupervised Learning"
   ]
  },
  {
   "cell_type": "markdown",
   "metadata": {},
   "source": [
    "In Unsupervised Learning, we do not have the labeled data to give to the system. Because of that, differently from the Supervised Learning, we don't have the knowledge of the results before the task is performed nor are able to associate the data to our target.\n",
    "\n",
    "In this manner, when using the Unsupervised Learning our objective is not a model that helps the system to perform the task in an optimized way. Instead, we are looking for a model that is able to divide our results following very specific characteristics. Thus, we are dealing with something we call Clusterization."
   ]
  },
  {
   "cell_type": "markdown",
   "metadata": {},
   "source": [
    "### Supervised vs Unsupervised"
   ]
  },
  {
   "cell_type": "markdown",
   "metadata": {},
   "source": [
    "The fact that Unsupervised Learning is normally used to perform tasks of clusterization does not mean that Supervised Learning can't be used to the same end. However, imagine the scenario where our database is really large and labelling the data would take too much time. - In this case, Usupervised Learning would be the best option.\n",
    "\n",
    "Another interesting aspect of this is that both types can actually be used together. - Using again our example of a really large database, we could use Unsupervised Learning to understand the clusters of data that our database is made. Then, once we have this information, we can use the labeled data (result of the Unsupervised process) as the data for the Supervised Learning, omptimizing the model for each type of cluster."
   ]
  },
  {
   "cell_type": "markdown",
   "metadata": {},
   "source": [
    "## 2.3 Reinforcement Learning"
   ]
  },
  {
   "cell_type": "markdown",
   "metadata": {},
   "source": [
    "Reinforcement Learning is a type of technique that enables an agent (in AI, an element that makes decisions) to learn, through an interactive environment, by trial and error using feedback from the actions it performed.\n",
    "\n",
    "Supervised and Reinforcement learning might seem similar at first, as both maps input/output. However, differently from Supervised Learning, in Reinforcement Learning the agent is provided with rewards and punishments as signals for positive and negative behaviors.\n",
    "\n",
    "We can also make a comparison with Unsupervised Learning, where we see a difference in terms of goals between the two approaches. In Unsupervised Learning, the goal is to find similarities and differences between data points (thus, finding clusters in data). But in Reinforcement Learning, the goal is to find a suitable Model that would maximize the rewards received by the agent."
   ]
  },
  {
   "cell_type": "markdown",
   "metadata": {},
   "source": [
    "# 3. Supervised Learning in more details"
   ]
  },
  {
   "cell_type": "markdown",
   "metadata": {},
   "source": []
  },
  {
   "cell_type": "markdown",
   "metadata": {},
   "source": [
    "# Linear Regression"
   ]
  },
  {
   "cell_type": "markdown",
   "metadata": {},
   "source": [
    "## So, what is Linear Regression?"
   ]
  },
  {
   "cell_type": "markdown",
   "metadata": {},
   "source": [
    "Linear Regression is one of the technics found under the Supervised Learning class of Machine Learning algorithms.\n",
    "As such, it is a kind of algorithm where we, as developers, feed entry values and expected results and the algorithm use it as basis for learning."
   ]
  },
  {
   "cell_type": "markdown",
   "metadata": {},
   "source": [
    "# Logistic Regression"
   ]
  },
  {
   "cell_type": "code",
   "execution_count": null,
   "metadata": {},
   "outputs": [],
   "source": []
  }
 ],
 "metadata": {
  "kernelspec": {
   "display_name": "Python 3",
   "language": "python",
   "name": "python3"
  },
  "language_info": {
   "codemirror_mode": {
    "name": "ipython",
    "version": 3
   },
   "file_extension": ".py",
   "mimetype": "text/x-python",
   "name": "python",
   "nbconvert_exporter": "python",
   "pygments_lexer": "ipython3",
   "version": "3.8.2"
  }
 },
 "nbformat": 4,
 "nbformat_minor": 4
}
