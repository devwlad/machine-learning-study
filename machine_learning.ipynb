{
 "cells": [
  {
   "cell_type": "markdown",
   "metadata": {},
   "source": [
    "# 1. Machine Learning"
   ]
  },
  {
   "cell_type": "markdown",
   "metadata": {},
   "source": [
    "As a subfield of Artificial Intelligence, Machine Learning has its core in creating an algorithm, which a computer then uses to find a model that fits the data given as best as possible. And, using this algorithm, makes very accurate predictions.\n",
    "\n",
    "The main difference from ML to Traditional Methods is that, for ML, we do not give the machine instructions on how to find the model that fits the data. Instead, we provide the machine algorithms that guides it on how to learn the model on its own.\n",
    "\n",
    "In this fashion, the best way to describe ML in few words is: A trial-and-error process. However, instead of only focusing in retrials with random results, the special thing about this process is that each consecutive trial is at least as good as the previous one.\n",
    "\n",
    "To be more precise, there are four ingredients to make this process work as intended:"
   ]
  },
  {
   "cell_type": "markdown",
   "metadata": {},
   "source": [
    "1. Data: The collection of information to be used\n",
    "2. Model: How the data will be used to pursue an objective\n",
    "3. Objective Function: The parameter to judge how well the model is behaving\n",
    "4. Optimization Algorithm: The mechanics that will be used to improve the mode, min-maxing the results of the Objective Function"
   ]
  },
  {
   "cell_type": "markdown",
   "metadata": {},
   "source": [
    "A clear examplme would be the following scenario:"
   ]
  },
  {
   "cell_type": "markdown",
   "metadata": {},
   "source": [
    "\"Bob is building a robot that should learn how to shoot arrows at a target.\n",
    "The robot is provided a bow, but not the knowledge of how to used it.\n",
    "The robot is also provided with a quiver, full of different types of arrows.\n",
    "In front of the robot, there's a target, where the arrows must be shot, with the bow, by the robot.\n",
    "\n",
    "In this scenario, knowing how to use the bow to shoot the arrows would be our Model.\n",
    "The quiver with the different types of arrows would be our Data.\n",
    "Our target would be the Objective function.\n",
    "Finaly, our Optimization Algorithm would be the mechanics used by robot to improve the model's performance.\""
   ]
  },
  {
   "cell_type": "markdown",
   "metadata": {},
   "source": [
    "Once we have our four ingredients in place, we can begin the training phase for ML."
   ]
  },
  {
   "cell_type": "markdown",
   "metadata": {},
   "source": [
    "## Training"
   ]
  },
  {
   "cell_type": "markdown",
   "metadata": {},
   "source": [
    "The training phase is where our system will actually learn how to do the task needed and how to optimize it. To do that, we will make use of the four ingredients cited before:"
   ]
  },
  {
   "cell_type": "markdown",
   "metadata": {},
   "source": [
    "1. Data: will be fed to our system so that it can understand its structure and how to work on it\n",
    "2. Objective Function: will be our parameter to how well the system is performing. Usually, it will be updated by the Optimization algorithm, minimizing the cost of the tasks and finding the best results\n",
    "3. Optimization algorythm: will use the objective function to tailor the model, making it so that our system keeps adapting it to minimize the objective function\n",
    "4. Model: will be constantly update by the Optimization algorithm, representing the learned procedure of the task, minimizing our Objective Function."
   ]
  },
  {
   "cell_type": "markdown",
   "metadata": {},
   "source": [
    "Finally, once our system is trained, itś time to test it with different data (we're not using the same data as before) to see how well it performs.\n",
    "\n",
    "At the and of the day, the use of Machine Learning es a mean to perform a task in an incresingly better manner, ideally performing better than humans. So, we can resume it in the following:"
   ]
  },
  {
   "cell_type": "markdown",
   "metadata": {},
   "source": [
    "* Benefit: The \"Robot\" (the Algorithm) can learn to perform the task in a more effective way than a human. In fact, it can actually discover new ways of performing the task that is completely different from what humans do.\n",
    "* Use: Even when talking about the \"Robot\", ML is not about it. The main use of ML is to improve complex computational models, helping us to achieve progressively better results in our tasks."
   ]
  },
  {
   "cell_type": "markdown",
   "metadata": {},
   "source": [
    "# 2. Types of Machine Learning"
   ]
  },
  {
   "cell_type": "markdown",
   "metadata": {},
   "source": [
    "## 2.1 Supervised Learning"
   ]
  },
  {
   "cell_type": "markdown",
   "metadata": {},
   "source": [
    "Supervised Learning refers to a type of Machine Learning where we take care of the system's leaning as a teacher would do.\n",
    "\n",
    "We still are not teaching the system how to solve the task, but we are providing it with information on what is wrong and what is right.\n",
    "\n",
    "To perform the Supervised Learning, we provide the system with labeled data. From this data, we have previous knowledge of the results we will have before the task is performed and are able to associate the task, useing the data, to our target.\n",
    "\n",
    "considering that, we guarantee that the Objective Function can be used to measure the inaccuracy of the task being performed by the system, and that the Optimization Algorithm will be able to improve the way (Model) the system performs the task."
   ]
  },
  {
   "cell_type": "markdown",
   "metadata": {},
   "source": [
    "## 2.2 Unsupervised Learning"
   ]
  },
  {
   "cell_type": "markdown",
   "metadata": {},
   "source": [
    "In Unsupervised Learning, we do not have the labeled data to give to the system. Because of that, differently from the Supervised Learning, we don't have the knowledge of the results before the task is performed nor are able to associate the data to our target.\n",
    "\n",
    "In this manner, when using the Unsupervised Learning our objective is not a model that helps the system to perform the task in an optimized way. Instead, we are looking for a model that is able to divide our results following very specific characteristics. Thus, we are dealing with something we call Clusterization."
   ]
  },
  {
   "cell_type": "markdown",
   "metadata": {},
   "source": [
    "### Supervised vs Unsupervised"
   ]
  },
  {
   "cell_type": "markdown",
   "metadata": {},
   "source": [
    "The fact that Unsupervised Learning is normally used to perform tasks of clusterization does not mean that Supervised Learning can't be used to the same end. However, imagine the scenario where our database is really large and labelling the data would take too much time. - In this case, Usupervised Learning would be the best option.\n",
    "\n",
    "Another interesting aspect of this is that both types can actually be used together. - Using again our example of a really large database, we could use Unsupervised Learning to understand the clusters of data that our database is made. Then, once we have this information, we can use the labeled data (result of the Unsupervised process) as the data for the Supervised Learning, omptimizing the model for each type of cluster."
   ]
  },
  {
   "cell_type": "markdown",
   "metadata": {},
   "source": [
    "## 2.3 Reinforcement Learning"
   ]
  },
  {
   "cell_type": "markdown",
   "metadata": {},
   "source": [
    "Reinforcement Learning is a type of technique that enables an agent (in AI, an element that makes decisions) to learn, through an interactive environment, by trial and error using feedback from the actions it performed.\n",
    "\n",
    "Supervised and Reinforcement learning might seem similar at first, as both maps input/output. However, differently from Supervised Learning, in Reinforcement Learning the agent is provided with rewards and punishments as signals for positive and negative behaviors.\n",
    "\n",
    "We can also make a comparison with Unsupervised Learning, where we see a difference in terms of goals between the two approaches. In Unsupervised Learning, the goal is to find similarities and differences between data points (thus, finding clusters in data). But in Reinforcement Learning, the goal is to find a suitable Model that would maximize the rewards received by the agent."
   ]
  },
  {
   "cell_type": "markdown",
   "metadata": {},
   "source": [
    "# 3. Supervised Learning in more details"
   ]
  },
  {
   "cell_type": "markdown",
   "metadata": {},
   "source": [
    "Among the branches of Machine Learning, Supervised Learning is, by far, the most common and, usually, the first type to be learnt by developers. What gives this characteristic to SL is the fact that they are the most easy to desing and because its definition is simple and straightforward.\n",
    "\n",
    "SL algorithms are those that \"Learn by Example\". What this means is that given a dataset with inputs and their correspondent correct outputs, the algorithm will devise a model to map the pairs present in the databse in the best way possible. The objective is that, once the model is learnt, the algorithm will be able to receive a new dataset (this time with only the inputs), apply the model and find the correct outputs.\n",
    "\n",
    "A very simple way of defining SL algorithms is the following:"
   ]
  },
  {
   "cell_type": "markdown",
   "metadata": {},
   "source": [
    "<center>$Y = f(x)$</center>"
   ]
  },
  {
   "cell_type": "markdown",
   "metadata": {},
   "source": [
    "Here, $Y$ is our predicted output and $f(x)$ is the mapping function that, applied to our input $x$, generates $Y$. "
   ]
  },
  {
   "cell_type": "markdown",
   "metadata": {},
   "source": [
    "As a class of learning algorithms, SL can be split into two subclasses: <b>Regression</b> and <b>Regression</b>."
   ]
  },
  {
   "cell_type": "markdown",
   "metadata": {},
   "source": [
    "## 3.1 Regression"
   ]
  },
  {
   "cell_type": "markdown",
   "metadata": {},
   "source": [
    "Regression is the class of Learning Algorithms used to investigate the relationship between dependent and independent variables through a statistical process. The goal of regression is to build a model that is capable of prediction a continuous number. Imagine something as a test grade, the price of a house or anything like that.\n",
    "\n",
    "The simplest way of describing, mathematically, the regression is through the equation below:"
   ]
  },
  {
   "cell_type": "markdown",
   "metadata": {},
   "source": [
    "<center>$\\hat{y} = w[0] * x[0] + w[1] * x[1] + ... + w[n] * x[n] + b$</center>"
   ]
  },
  {
   "cell_type": "markdown",
   "metadata": {},
   "source": [
    "Here, $x[n]$ is what we will call the features of the data and $w[n]$ and $b$ are the parameters which are developed during the model training process. In fact, we can call $w[n]$ \"weights\", but we will talk more about this later."
   ]
  },
  {
   "cell_type": "markdown",
   "metadata": {},
   "source": [
    "Keeping up with the mathematical description, we can simplify the formula above for cases where we have, let's say, only one feature. So, instead of all those variables, we would have something like:"
   ]
  },
  {
   "cell_type": "markdown",
   "metadata": {},
   "source": [
    "<center>$\\hat{y} = wx + b$</center>"
   ]
  },
  {
   "cell_type": "markdown",
   "metadata": {},
   "source": [
    "If this brought back some basic math from school, you are on the right path. In the same way as a first degree equation, our regression model would be represented as the line that best fits the input values of our database. Expanding this concept, if we have two features, we would have a plane, for three we would have a hyperplane, and so on."
   ]
  },
  {
   "cell_type": "markdown",
   "metadata": {},
   "source": [
    "To put this in practice, there are several regression algorithms that can be used, each being best applied for a specific scenario. The most commonly used are the first three of the list below, but we will have more information on all of the other listed:"
   ]
  },
  {
   "cell_type": "markdown",
   "metadata": {},
   "source": [
    "* Linear Regression\n",
    "* Logistic Regression (there is actually a catch here - more details later)\n",
    "* Polynomial Regression\n",
    "* Stepwise Regression\n",
    "* Ridge Regression\n",
    "* Lasso Regression\n",
    "* ElasticNet Regression"
   ]
  },
  {
   "cell_type": "markdown",
   "metadata": {},
   "source": [
    "## 3.2 Classification"
   ]
  },
  {
   "cell_type": "markdown",
   "metadata": {},
   "source": [
    "Differently from Regression algorithms, where our objective is to get some imput data and use it to predict a continous value, the idea of Classification algorithms is to get the input data and infer to which class (or label) this input belongs to.\n",
    "\n",
    "So imagine now that we have a database where our input value are manually writter numbers and we want our system to identify which numbers are writter. Or that we have a database with pictures of animals and we want to know which animal is in which picture. Those numbers or animals are the classes/labels our Classification algorithm will learn to identify.\n",
    "\n",
    "As there numerous ways of classifying our data depending on the kind of data we have, there are several classification algorithms. The most common ones - and the ones we will explore in this guide, are the following:"
   ]
  },
  {
   "cell_type": "markdown",
   "metadata": {},
   "source": [
    "* Linear Classifiers\n",
    "* Support Vector Machines (or just SVMs)\n",
    "* Decision Trees\n",
    "* K-Nearest Neighbor\n",
    "* Random Forests"
   ]
  },
  {
   "cell_type": "markdown",
   "metadata": {},
   "source": [
    "# 4. Unsupervised Learning"
   ]
  },
  {
   "cell_type": "markdown",
   "metadata": {},
   "source": [
    "# 5. Reinforcement Learning"
   ]
  },
  {
   "cell_type": "markdown",
   "metadata": {},
   "source": [
    "# 6. Deep Learning"
   ]
  },
  {
   "cell_type": "code",
   "execution_count": null,
   "metadata": {},
   "outputs": [],
   "source": []
  }
 ],
 "metadata": {
  "kernelspec": {
   "display_name": "Python 3",
   "language": "python",
   "name": "python3"
  },
  "language_info": {
   "codemirror_mode": {
    "name": "ipython",
    "version": 3
   },
   "file_extension": ".py",
   "mimetype": "text/x-python",
   "name": "python",
   "nbconvert_exporter": "python",
   "pygments_lexer": "ipython3",
   "version": "3.8.2"
  }
 },
 "nbformat": 4,
 "nbformat_minor": 4
}
